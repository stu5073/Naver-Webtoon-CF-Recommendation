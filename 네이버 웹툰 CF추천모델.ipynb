{
 "cells": [
  {
   "cell_type": "code",
   "execution_count": 6,
   "metadata": {},
   "outputs": [],
   "source": [
    "import pandas as pd\n",
    "import numpy as np\n",
    "import matplotlib.pyplot as plt\n",
    "\n",
    "from tqdm import tqdm_notebook\n",
    "import warnings\n",
    "\n",
    "warnings.filterwarnings(action='ignore')"
   ]
  },
  {
   "cell_type": "code",
   "execution_count": 5,
   "metadata": {},
   "outputs": [
    {
     "name": "stdout",
     "output_type": "stream",
     "text": [
      "(32142, 343)\n"
     ]
    }
   ],
   "source": [
    "df = pd.read_csv('naver_webtoon_id.csv')\n",
    "df = df.iloc[:,1:]\n",
    "print(df.shape)"
   ]
  },
  {
   "cell_type": "code",
   "execution_count": 3,
   "metadata": {},
   "outputs": [
    {
     "data": {
      "text/html": [
       "<div>\n",
       "<style scoped>\n",
       "    .dataframe tbody tr th:only-of-type {\n",
       "        vertical-align: middle;\n",
       "    }\n",
       "\n",
       "    .dataframe tbody tr th {\n",
       "        vertical-align: top;\n",
       "    }\n",
       "\n",
       "    .dataframe thead th {\n",
       "        text-align: right;\n",
       "    }\n",
       "</style>\n",
       "<table border=\"1\" class=\"dataframe\">\n",
       "  <thead>\n",
       "    <tr style=\"text-align: right;\">\n",
       "      <th></th>\n",
       "      <th>인생존망</th>\n",
       "      <th>뷰티풀 군바리</th>\n",
       "      <th>윈드브레이커</th>\n",
       "      <th>소녀의 세계</th>\n",
       "      <th>백수세끼</th>\n",
       "      <th>파이게임</th>\n",
       "      <th>장씨세가 호위무사</th>\n",
       "      <th>앵무살수</th>\n",
       "      <th>야자괴담</th>\n",
       "      <th>유일무이 로맨스</th>\n",
       "      <th>...</th>\n",
       "      <th>오늘도 사랑하세요</th>\n",
       "      <th>죽여주는 탐정님</th>\n",
       "      <th>그녀의 버킷리스트</th>\n",
       "      <th>만찢남녀</th>\n",
       "      <th>Here U Are</th>\n",
       "      <th>위험한 신입사원</th>\n",
       "      <th>불발소년</th>\n",
       "      <th>선녀야 야옹해봐!</th>\n",
       "      <th>8월의 눈보라</th>\n",
       "      <th>마도</th>\n",
       "    </tr>\n",
       "  </thead>\n",
       "  <tbody>\n",
       "    <tr>\n",
       "      <th>0</th>\n",
       "      <td>박태준 / 전선욱</td>\n",
       "      <td>설이 / 윤성원</td>\n",
       "      <td>조용석</td>\n",
       "      <td>모랑지</td>\n",
       "      <td>치즈</td>\n",
       "      <td>배진수</td>\n",
       "      <td>조형근 / 김인호</td>\n",
       "      <td>김성진</td>\n",
       "      <td>이도광</td>\n",
       "      <td>두부</td>\n",
       "      <td>...</td>\n",
       "      <td>하찌</td>\n",
       "      <td>뻥 / 조은</td>\n",
       "      <td>황양 / 솦</td>\n",
       "      <td>님니</td>\n",
       "      <td>D JUN</td>\n",
       "      <td>박수정 / Jiya</td>\n",
       "      <td>곤세</td>\n",
       "      <td>햄톨탱크</td>\n",
       "      <td>김리아</td>\n",
       "      <td>이밤</td>\n",
       "    </tr>\n",
       "    <tr>\n",
       "      <th>1</th>\n",
       "      <td>['에피소드, 액션']</td>\n",
       "      <td>['스토리, 드라마']</td>\n",
       "      <td>['스토리, 스포츠']</td>\n",
       "      <td>['스토리, 드라마']</td>\n",
       "      <td>['스토리, 드라마']</td>\n",
       "      <td>['스토리, 스릴러']</td>\n",
       "      <td>['스토리, 시대극']</td>\n",
       "      <td>['스토리, 판타지']</td>\n",
       "      <td>['옴니버스, 스릴러']</td>\n",
       "      <td>['스토리, 로맨스']</td>\n",
       "      <td>...</td>\n",
       "      <td>['스토리, 로맨스']</td>\n",
       "      <td>['스토리, 스릴러']</td>\n",
       "      <td>['스토리, 드라마']</td>\n",
       "      <td>['스토리, 로맨스']</td>\n",
       "      <td>['스토리, 로맨스']</td>\n",
       "      <td>['스토리, 로맨스']</td>\n",
       "      <td>['에피소드, 드라마']</td>\n",
       "      <td>['스토리, 로맨스']</td>\n",
       "      <td>['스토리, 로맨스']</td>\n",
       "      <td>['스토리, 판타지']</td>\n",
       "    </tr>\n",
       "    <tr>\n",
       "      <th>2</th>\n",
       "      <td>9.848</td>\n",
       "      <td>9.675999999999998</td>\n",
       "      <td>9.153000000000002</td>\n",
       "      <td>9.916</td>\n",
       "      <td>9.842000000000002</td>\n",
       "      <td>9.946666666666667</td>\n",
       "      <td>9.969</td>\n",
       "      <td>9.974</td>\n",
       "      <td>9.965</td>\n",
       "      <td>9.983</td>\n",
       "      <td>...</td>\n",
       "      <td>9.619000000000002</td>\n",
       "      <td>9.861999999999998</td>\n",
       "      <td>9.944999999999999</td>\n",
       "      <td>9.951000000000002</td>\n",
       "      <td>9.897</td>\n",
       "      <td>9.572999999999999</td>\n",
       "      <td>9.858</td>\n",
       "      <td>9.697</td>\n",
       "      <td>9.55</td>\n",
       "      <td>9.769</td>\n",
       "    </tr>\n",
       "    <tr>\n",
       "      <th>3</th>\n",
       "      <td>qaz1****</td>\n",
       "      <td>wlsg****</td>\n",
       "      <td>2sil****</td>\n",
       "      <td>wink****</td>\n",
       "      <td>nams****</td>\n",
       "      <td>plew****</td>\n",
       "      <td>udp1****</td>\n",
       "      <td>dhth****</td>\n",
       "      <td>anit****</td>\n",
       "      <td>pjsb****</td>\n",
       "      <td>...</td>\n",
       "      <td>tjsg****</td>\n",
       "      <td>minj****</td>\n",
       "      <td>jujc****</td>\n",
       "      <td>qaz3****</td>\n",
       "      <td>heen****</td>\n",
       "      <td>theh****</td>\n",
       "      <td>hbho****</td>\n",
       "      <td>xzcx****</td>\n",
       "      <td>lsja****</td>\n",
       "      <td>pott****</td>\n",
       "    </tr>\n",
       "    <tr>\n",
       "      <th>4</th>\n",
       "      <td>jkdd****</td>\n",
       "      <td>euns****</td>\n",
       "      <td>john****</td>\n",
       "      <td>euns****</td>\n",
       "      <td>yfn0****</td>\n",
       "      <td>wotn****</td>\n",
       "      <td>jss9****</td>\n",
       "      <td>qowe****</td>\n",
       "      <td>kkt3****</td>\n",
       "      <td>kjin****</td>\n",
       "      <td>...</td>\n",
       "      <td>chsp****</td>\n",
       "      <td>cril****</td>\n",
       "      <td>choi****</td>\n",
       "      <td>cyj1****</td>\n",
       "      <td>1hya****</td>\n",
       "      <td>ljy0****</td>\n",
       "      <td>hyun****</td>\n",
       "      <td>ghkd****</td>\n",
       "      <td>sjmj****</td>\n",
       "      <td>kinu****</td>\n",
       "    </tr>\n",
       "  </tbody>\n",
       "</table>\n",
       "<p>5 rows × 343 columns</p>\n",
       "</div>"
      ],
      "text/plain": [
       "           인생존망            뷰티풀 군바리             윈드브레이커        소녀의 세계  \\\n",
       "0     박태준 / 전선욱           설이 / 윤성원                조용석           모랑지   \n",
       "1  ['에피소드, 액션']       ['스토리, 드라마']       ['스토리, 스포츠']  ['스토리, 드라마']   \n",
       "2         9.848  9.675999999999998  9.153000000000002         9.916   \n",
       "3      qaz1****           wlsg****           2sil****      wink****   \n",
       "4      jkdd****           euns****           john****      euns****   \n",
       "\n",
       "                백수세끼               파이게임     장씨세가 호위무사          앵무살수  \\\n",
       "0                 치즈                배진수     조형근 / 김인호           김성진   \n",
       "1       ['스토리, 드라마']       ['스토리, 스릴러']  ['스토리, 시대극']  ['스토리, 판타지']   \n",
       "2  9.842000000000002  9.946666666666667         9.969         9.974   \n",
       "3           nams****           plew****      udp1****      dhth****   \n",
       "4           yfn0****           wotn****      jss9****      qowe****   \n",
       "\n",
       "            야자괴담      유일무이 로맨스  ...          오늘도 사랑하세요           죽여주는 탐정님  \\\n",
       "0            이도광            두부  ...                 하찌             뻥 / 조은   \n",
       "1  ['옴니버스, 스릴러']  ['스토리, 로맨스']  ...       ['스토리, 로맨스']       ['스토리, 스릴러']   \n",
       "2          9.965         9.983  ...  9.619000000000002  9.861999999999998   \n",
       "3       anit****      pjsb****  ...           tjsg****           minj****   \n",
       "4       kkt3****      kjin****  ...           chsp****           cril****   \n",
       "\n",
       "           그녀의 버킷리스트               만찢남녀    Here U Are           위험한 신입사원  \\\n",
       "0             황양 / 솦                 님니         D JUN         박수정 / Jiya   \n",
       "1       ['스토리, 드라마']       ['스토리, 로맨스']  ['스토리, 로맨스']       ['스토리, 로맨스']   \n",
       "2  9.944999999999999  9.951000000000002         9.897  9.572999999999999   \n",
       "3           jujc****           qaz3****      heen****           theh****   \n",
       "4           choi****           cyj1****      1hya****           ljy0****   \n",
       "\n",
       "            불발소년     선녀야 야옹해봐!       8월의 눈보라            마도  \n",
       "0             곤세          햄톨탱크           김리아            이밤  \n",
       "1  ['에피소드, 드라마']  ['스토리, 로맨스']  ['스토리, 로맨스']  ['스토리, 판타지']  \n",
       "2          9.858         9.697          9.55         9.769  \n",
       "3       hbho****      xzcx****      lsja****      pott****  \n",
       "4       hyun****      ghkd****      sjmj****      kinu****  \n",
       "\n",
       "[5 rows x 343 columns]"
      ]
     },
     "execution_count": 3,
     "metadata": {},
     "output_type": "execute_result"
    }
   ],
   "source": [
    "df.head()"
   ]
  },
  {
   "cell_type": "code",
   "execution_count": 43,
   "metadata": {},
   "outputs": [
    {
     "name": "stdout",
     "output_type": "stream",
     "text": [
      "iter 1 :  인생존망\n"
     ]
    },
    {
     "data": {
      "application/vnd.jupyter.widget-view+json": {
       "model_id": "f8af17e629944c95b433d0b701dc92fc",
       "version_major": 2,
       "version_minor": 0
      },
      "text/plain": [
       "HBox(children=(FloatProgress(value=0.0, max=32139.0), HTML(value='')))"
      ]
     },
     "metadata": {},
     "output_type": "display_data"
    },
    {
     "name": "stdout",
     "output_type": "stream",
     "text": [
      "\n",
      "length :  18829\n",
      "iter 2 :  뷰티풀 군바리\n"
     ]
    },
    {
     "data": {
      "application/vnd.jupyter.widget-view+json": {
       "model_id": "832f2000a4224aa7a6c6b8669600c816",
       "version_major": 2,
       "version_minor": 0
      },
      "text/plain": [
       "HBox(children=(FloatProgress(value=0.0, max=32139.0), HTML(value='')))"
      ]
     },
     "metadata": {},
     "output_type": "display_data"
    },
    {
     "name": "stdout",
     "output_type": "stream",
     "text": [
      "\n",
      "length :  36529\n",
      "iter 3 :  윈드브레이커\n"
     ]
    },
    {
     "data": {
      "application/vnd.jupyter.widget-view+json": {
       "model_id": "6641a97aeb514d9e9b2b8df38f60acbb",
       "version_major": 2,
       "version_minor": 0
      },
      "text/plain": [
       "HBox(children=(FloatProgress(value=0.0, max=32139.0), HTML(value='')))"
      ]
     },
     "metadata": {},
     "output_type": "display_data"
    },
    {
     "name": "stdout",
     "output_type": "stream",
     "text": [
      "\n",
      "length :  43660\n",
      "iter 4 :  소녀의 세계\n"
     ]
    },
    {
     "data": {
      "application/vnd.jupyter.widget-view+json": {
       "model_id": "e02094c529ea4cb686aa56d30c111683",
       "version_major": 2,
       "version_minor": 0
      },
      "text/plain": [
       "HBox(children=(FloatProgress(value=0.0, max=32139.0), HTML(value='')))"
      ]
     },
     "metadata": {},
     "output_type": "display_data"
    },
    {
     "name": "stdout",
     "output_type": "stream",
     "text": [
      "\n",
      "length :  49632\n",
      "iter 5 :  백수세끼\n"
     ]
    },
    {
     "data": {
      "application/vnd.jupyter.widget-view+json": {
       "model_id": "f1856299c8204d2e86ece3282b99b3a3",
       "version_major": 2,
       "version_minor": 0
      },
      "text/plain": [
       "HBox(children=(FloatProgress(value=0.0, max=32139.0), HTML(value='')))"
      ]
     },
     "metadata": {},
     "output_type": "display_data"
    },
    {
     "name": "stdout",
     "output_type": "stream",
     "text": [
      "\n",
      "length :  50751\n",
      "50000 end\n"
     ]
    }
   ],
   "source": [
    "# 웹툰 작가님 명, 장르, 평점 제외\n",
    "df_value = df.iloc[3:,:]\n",
    "\n",
    "# 유저별 dictionary형태로 가공\n",
    "idlst={}\n",
    "col = list(df.columns)\n",
    "for k in range(len(col)):\n",
    "    id_val = list(df_value[col[k]].values)\n",
    "    print('iter',k+1, ': ',col[k])\n",
    "    total = tqdm_notebook(range(len(id_val)))\n",
    "    \n",
    "    for b in total:\n",
    "        if(id_val[b] not in list(idlst.keys())):\n",
    "            idlst[id_val[b]] = col[k]\n",
    "    print('length : ', len(list(idlst.keys())))\n",
    "    \n",
    "    # 너무 많은 데이터를 처리하기엔 한계가 있으므로 각 웹툰당 최대 50,000개 유저만 가져옴\n",
    "    if(len(list(idlst.keys()))>=50000):\n",
    "        print('50000 end')\n",
    "        break"
   ]
  },
  {
   "cell_type": "code",
   "execution_count": 47,
   "metadata": {},
   "outputs": [
    {
     "name": "stdout",
     "output_type": "stream",
     "text": [
      "iter 1 :  인생존망\n"
     ]
    },
    {
     "data": {
      "application/vnd.jupyter.widget-view+json": {
       "model_id": "459bed7beede4e8483cf1ff7fe6f3364",
       "version_major": 2,
       "version_minor": 0
      },
      "text/plain": [
       "HBox(children=(FloatProgress(value=0.0, max=32139.0), HTML(value='')))"
      ]
     },
     "metadata": {},
     "output_type": "display_data"
    },
    {
     "name": "stdout",
     "output_type": "stream",
     "text": [
      "\n",
      "iter 2 :  뷰티풀 군바리\n"
     ]
    },
    {
     "data": {
      "application/vnd.jupyter.widget-view+json": {
       "model_id": "a8771aa398b94448a7e17362adc40fc0",
       "version_major": 2,
       "version_minor": 0
      },
      "text/plain": [
       "HBox(children=(FloatProgress(value=0.0, max=32139.0), HTML(value='')))"
      ]
     },
     "metadata": {},
     "output_type": "display_data"
    },
    {
     "name": "stdout",
     "output_type": "stream",
     "text": [
      "\n",
      "iter 3 :  윈드브레이커\n"
     ]
    },
    {
     "data": {
      "application/vnd.jupyter.widget-view+json": {
       "model_id": "f5aa4c2db1b94630bb1e9a3645a591cb",
       "version_major": 2,
       "version_minor": 0
      },
      "text/plain": [
       "HBox(children=(FloatProgress(value=0.0, max=32139.0), HTML(value='')))"
      ]
     },
     "metadata": {},
     "output_type": "display_data"
    },
    {
     "name": "stdout",
     "output_type": "stream",
     "text": [
      "\n",
      "iter 4 :  소녀의 세계\n"
     ]
    },
    {
     "data": {
      "application/vnd.jupyter.widget-view+json": {
       "model_id": "298c0919d2584fa1bc7845ad0cefae8d",
       "version_major": 2,
       "version_minor": 0
      },
      "text/plain": [
       "HBox(children=(FloatProgress(value=0.0, max=32139.0), HTML(value='')))"
      ]
     },
     "metadata": {},
     "output_type": "display_data"
    },
    {
     "name": "stdout",
     "output_type": "stream",
     "text": [
      "\n"
     ]
    },
    {
     "ename": "KeyboardInterrupt",
     "evalue": "",
     "output_type": "error",
     "traceback": [
      "\u001b[1;31m---------------------------------------------------------------------------\u001b[0m",
      "\u001b[1;31mKeyboardInterrupt\u001b[0m                         Traceback (most recent call last)",
      "\u001b[1;32m<ipython-input-47-6136382028cf>\u001b[0m in \u001b[0;36m<module>\u001b[1;34m\u001b[0m\n\u001b[0;32m      8\u001b[0m         \u001b[1;32mif\u001b[0m\u001b[1;33m(\u001b[0m\u001b[0mid_val\u001b[0m\u001b[1;33m[\u001b[0m\u001b[0mj\u001b[0m\u001b[1;33m]\u001b[0m \u001b[1;32min\u001b[0m \u001b[0midlst\u001b[0m\u001b[1;33m.\u001b[0m\u001b[0mkeys\u001b[0m\u001b[1;33m(\u001b[0m\u001b[1;33m)\u001b[0m\u001b[1;33m)\u001b[0m\u001b[1;33m:\u001b[0m\u001b[1;33m\u001b[0m\u001b[1;33m\u001b[0m\u001b[0m\n\u001b[0;32m      9\u001b[0m             \u001b[0malready_in_key\u001b[0m \u001b[1;33m=\u001b[0m \u001b[0midlst\u001b[0m\u001b[1;33m[\u001b[0m\u001b[0mid_val\u001b[0m\u001b[1;33m[\u001b[0m\u001b[0mj\u001b[0m\u001b[1;33m]\u001b[0m\u001b[1;33m]\u001b[0m\u001b[1;33m+\u001b[0m\u001b[1;34m'split'\u001b[0m\u001b[1;33m+\u001b[0m\u001b[0mcol\u001b[0m\u001b[1;33m[\u001b[0m\u001b[0mi\u001b[0m\u001b[1;33m]\u001b[0m\u001b[1;33m\u001b[0m\u001b[1;33m\u001b[0m\u001b[0m\n\u001b[1;32m---> 10\u001b[1;33m             \u001b[0midlst\u001b[0m\u001b[1;33m[\u001b[0m\u001b[0mid_val\u001b[0m\u001b[1;33m[\u001b[0m\u001b[0mj\u001b[0m\u001b[1;33m]\u001b[0m\u001b[1;33m]\u001b[0m \u001b[1;33m=\u001b[0m \u001b[0malready_in_key\u001b[0m\u001b[1;33m\u001b[0m\u001b[1;33m\u001b[0m\u001b[0m\n\u001b[0m",
      "\u001b[1;31mKeyboardInterrupt\u001b[0m: "
     ]
    }
   ],
   "source": [
    "for i in range(len(col)):\n",
    "    id_val = list(df_value[col[i]].values)\n",
    "    \n",
    "    print('iter',i+1, ': ',col[i])\n",
    "    total = tqdm_notebook(range(len(id_val)))\n",
    "    for j in total:\n",
    "        \n",
    "        if(id_val[j] in idlst.keys()):\n",
    "            already_in_key = idlst[id_val[j]]+'split'+col[i]\n",
    "            idlst[id_val[j]] = already_in_key"
   ]
  },
  {
   "cell_type": "code",
   "execution_count": 57,
   "metadata": {},
   "outputs": [],
   "source": [
    "lst = list(idlst.keys())\n",
    "val = list(idlst.values())"
   ]
  },
  {
   "cell_type": "code",
   "execution_count": 58,
   "metadata": {},
   "outputs": [],
   "source": [
    "a={'id':lst,'webtoon':val}\n",
    "b=pd.DataFrame(a)"
   ]
  },
  {
   "cell_type": "code",
   "execution_count": 60,
   "metadata": {},
   "outputs": [],
   "source": [
    "b.to_csv('naver_webtoon_watch.csv',mode='w')"
   ]
  },
  {
   "cell_type": "code",
   "execution_count": 35,
   "metadata": {},
   "outputs": [],
   "source": [
    "df2 = pd.read_csv('naver_webtoon_watch.csv')\n",
    "df2.drop('Unnamed: 0',axis=1,inplace=True)"
   ]
  },
  {
   "cell_type": "code",
   "execution_count": 37,
   "metadata": {},
   "outputs": [],
   "source": [
    "from collections import Counter\n",
    "from sklearn.preprocessing import MinMaxScaler\n",
    "import surprise\n",
    "\n",
    "scaler=MinMaxScaler()\n",
    "\n",
    "\n",
    "watched_toon = []\n",
    "\n",
    "\n",
    "for i in range(len(df2)):\n",
    "    box = Counter(list(df2['webtoon'])[i].split('split'))\n",
    "    plus = []\n",
    "    \n",
    "    for j in df.columns:\n",
    "        if(j in  box.keys()):\n",
    "            if(box[j]==1):\n",
    "                plus.append(3)\n",
    "            elif(box[j]>1 and box[j]<4):\n",
    "                plus.append(4)\n",
    "            elif(box[j]>=4):\n",
    "                plus.append(5)\n",
    "        else:\n",
    "            plus.append(0)\n",
    "    \n",
    "    watched_toon.append(plus)"
   ]
  },
  {
   "cell_type": "code",
   "execution_count": 42,
   "metadata": {},
   "outputs": [],
   "source": [
    "user = pd.DataFrame(watched_toon,columns = df.columns)"
   ]
  },
  {
   "cell_type": "code",
   "execution_count": 43,
   "metadata": {},
   "outputs": [
    {
     "data": {
      "text/html": [
       "<div>\n",
       "<style scoped>\n",
       "    .dataframe tbody tr th:only-of-type {\n",
       "        vertical-align: middle;\n",
       "    }\n",
       "\n",
       "    .dataframe tbody tr th {\n",
       "        vertical-align: top;\n",
       "    }\n",
       "\n",
       "    .dataframe thead th {\n",
       "        text-align: right;\n",
       "    }\n",
       "</style>\n",
       "<table border=\"1\" class=\"dataframe\">\n",
       "  <thead>\n",
       "    <tr style=\"text-align: right;\">\n",
       "      <th></th>\n",
       "      <th>인생존망</th>\n",
       "      <th>뷰티풀 군바리</th>\n",
       "      <th>윈드브레이커</th>\n",
       "      <th>소녀의 세계</th>\n",
       "      <th>백수세끼</th>\n",
       "      <th>파이게임</th>\n",
       "      <th>장씨세가 호위무사</th>\n",
       "      <th>앵무살수</th>\n",
       "      <th>야자괴담</th>\n",
       "      <th>유일무이 로맨스</th>\n",
       "      <th>...</th>\n",
       "      <th>오늘도 사랑하세요</th>\n",
       "      <th>죽여주는 탐정님</th>\n",
       "      <th>그녀의 버킷리스트</th>\n",
       "      <th>만찢남녀</th>\n",
       "      <th>Here U Are</th>\n",
       "      <th>위험한 신입사원</th>\n",
       "      <th>불발소년</th>\n",
       "      <th>선녀야 야옹해봐!</th>\n",
       "      <th>8월의 눈보라</th>\n",
       "      <th>마도</th>\n",
       "    </tr>\n",
       "  </thead>\n",
       "  <tbody>\n",
       "    <tr>\n",
       "      <th>0</th>\n",
       "      <td>5</td>\n",
       "      <td>4</td>\n",
       "      <td>0</td>\n",
       "      <td>0</td>\n",
       "      <td>0</td>\n",
       "      <td>0</td>\n",
       "      <td>0</td>\n",
       "      <td>0</td>\n",
       "      <td>0</td>\n",
       "      <td>0</td>\n",
       "      <td>...</td>\n",
       "      <td>0</td>\n",
       "      <td>0</td>\n",
       "      <td>0</td>\n",
       "      <td>0</td>\n",
       "      <td>0</td>\n",
       "      <td>0</td>\n",
       "      <td>0</td>\n",
       "      <td>0</td>\n",
       "      <td>0</td>\n",
       "      <td>0</td>\n",
       "    </tr>\n",
       "    <tr>\n",
       "      <th>1</th>\n",
       "      <td>5</td>\n",
       "      <td>0</td>\n",
       "      <td>0</td>\n",
       "      <td>0</td>\n",
       "      <td>0</td>\n",
       "      <td>0</td>\n",
       "      <td>0</td>\n",
       "      <td>0</td>\n",
       "      <td>0</td>\n",
       "      <td>0</td>\n",
       "      <td>...</td>\n",
       "      <td>0</td>\n",
       "      <td>0</td>\n",
       "      <td>0</td>\n",
       "      <td>0</td>\n",
       "      <td>0</td>\n",
       "      <td>0</td>\n",
       "      <td>0</td>\n",
       "      <td>0</td>\n",
       "      <td>0</td>\n",
       "      <td>0</td>\n",
       "    </tr>\n",
       "    <tr>\n",
       "      <th>2</th>\n",
       "      <td>5</td>\n",
       "      <td>0</td>\n",
       "      <td>0</td>\n",
       "      <td>0</td>\n",
       "      <td>0</td>\n",
       "      <td>0</td>\n",
       "      <td>0</td>\n",
       "      <td>0</td>\n",
       "      <td>0</td>\n",
       "      <td>0</td>\n",
       "      <td>...</td>\n",
       "      <td>0</td>\n",
       "      <td>0</td>\n",
       "      <td>0</td>\n",
       "      <td>0</td>\n",
       "      <td>0</td>\n",
       "      <td>0</td>\n",
       "      <td>0</td>\n",
       "      <td>0</td>\n",
       "      <td>0</td>\n",
       "      <td>0</td>\n",
       "    </tr>\n",
       "    <tr>\n",
       "      <th>3</th>\n",
       "      <td>5</td>\n",
       "      <td>4</td>\n",
       "      <td>5</td>\n",
       "      <td>0</td>\n",
       "      <td>0</td>\n",
       "      <td>0</td>\n",
       "      <td>0</td>\n",
       "      <td>4</td>\n",
       "      <td>0</td>\n",
       "      <td>0</td>\n",
       "      <td>...</td>\n",
       "      <td>0</td>\n",
       "      <td>0</td>\n",
       "      <td>0</td>\n",
       "      <td>0</td>\n",
       "      <td>0</td>\n",
       "      <td>0</td>\n",
       "      <td>0</td>\n",
       "      <td>0</td>\n",
       "      <td>0</td>\n",
       "      <td>0</td>\n",
       "    </tr>\n",
       "    <tr>\n",
       "      <th>4</th>\n",
       "      <td>5</td>\n",
       "      <td>0</td>\n",
       "      <td>4</td>\n",
       "      <td>0</td>\n",
       "      <td>0</td>\n",
       "      <td>0</td>\n",
       "      <td>0</td>\n",
       "      <td>5</td>\n",
       "      <td>0</td>\n",
       "      <td>0</td>\n",
       "      <td>...</td>\n",
       "      <td>0</td>\n",
       "      <td>0</td>\n",
       "      <td>0</td>\n",
       "      <td>0</td>\n",
       "      <td>0</td>\n",
       "      <td>0</td>\n",
       "      <td>0</td>\n",
       "      <td>0</td>\n",
       "      <td>0</td>\n",
       "      <td>0</td>\n",
       "    </tr>\n",
       "    <tr>\n",
       "      <th>...</th>\n",
       "      <td>...</td>\n",
       "      <td>...</td>\n",
       "      <td>...</td>\n",
       "      <td>...</td>\n",
       "      <td>...</td>\n",
       "      <td>...</td>\n",
       "      <td>...</td>\n",
       "      <td>...</td>\n",
       "      <td>...</td>\n",
       "      <td>...</td>\n",
       "      <td>...</td>\n",
       "      <td>...</td>\n",
       "      <td>...</td>\n",
       "      <td>...</td>\n",
       "      <td>...</td>\n",
       "      <td>...</td>\n",
       "      <td>...</td>\n",
       "      <td>...</td>\n",
       "      <td>...</td>\n",
       "      <td>...</td>\n",
       "      <td>...</td>\n",
       "    </tr>\n",
       "    <tr>\n",
       "      <th>50746</th>\n",
       "      <td>0</td>\n",
       "      <td>0</td>\n",
       "      <td>0</td>\n",
       "      <td>0</td>\n",
       "      <td>4</td>\n",
       "      <td>0</td>\n",
       "      <td>0</td>\n",
       "      <td>0</td>\n",
       "      <td>0</td>\n",
       "      <td>0</td>\n",
       "      <td>...</td>\n",
       "      <td>0</td>\n",
       "      <td>0</td>\n",
       "      <td>0</td>\n",
       "      <td>0</td>\n",
       "      <td>0</td>\n",
       "      <td>0</td>\n",
       "      <td>0</td>\n",
       "      <td>0</td>\n",
       "      <td>0</td>\n",
       "      <td>0</td>\n",
       "    </tr>\n",
       "    <tr>\n",
       "      <th>50747</th>\n",
       "      <td>0</td>\n",
       "      <td>0</td>\n",
       "      <td>0</td>\n",
       "      <td>0</td>\n",
       "      <td>4</td>\n",
       "      <td>0</td>\n",
       "      <td>0</td>\n",
       "      <td>0</td>\n",
       "      <td>0</td>\n",
       "      <td>0</td>\n",
       "      <td>...</td>\n",
       "      <td>0</td>\n",
       "      <td>0</td>\n",
       "      <td>3</td>\n",
       "      <td>0</td>\n",
       "      <td>0</td>\n",
       "      <td>0</td>\n",
       "      <td>0</td>\n",
       "      <td>0</td>\n",
       "      <td>0</td>\n",
       "      <td>0</td>\n",
       "    </tr>\n",
       "    <tr>\n",
       "      <th>50748</th>\n",
       "      <td>0</td>\n",
       "      <td>0</td>\n",
       "      <td>0</td>\n",
       "      <td>0</td>\n",
       "      <td>4</td>\n",
       "      <td>0</td>\n",
       "      <td>0</td>\n",
       "      <td>0</td>\n",
       "      <td>0</td>\n",
       "      <td>0</td>\n",
       "      <td>...</td>\n",
       "      <td>0</td>\n",
       "      <td>0</td>\n",
       "      <td>0</td>\n",
       "      <td>0</td>\n",
       "      <td>0</td>\n",
       "      <td>0</td>\n",
       "      <td>0</td>\n",
       "      <td>0</td>\n",
       "      <td>0</td>\n",
       "      <td>0</td>\n",
       "    </tr>\n",
       "    <tr>\n",
       "      <th>50749</th>\n",
       "      <td>0</td>\n",
       "      <td>0</td>\n",
       "      <td>0</td>\n",
       "      <td>0</td>\n",
       "      <td>5</td>\n",
       "      <td>0</td>\n",
       "      <td>0</td>\n",
       "      <td>0</td>\n",
       "      <td>0</td>\n",
       "      <td>0</td>\n",
       "      <td>...</td>\n",
       "      <td>0</td>\n",
       "      <td>0</td>\n",
       "      <td>0</td>\n",
       "      <td>0</td>\n",
       "      <td>0</td>\n",
       "      <td>0</td>\n",
       "      <td>0</td>\n",
       "      <td>0</td>\n",
       "      <td>0</td>\n",
       "      <td>0</td>\n",
       "    </tr>\n",
       "    <tr>\n",
       "      <th>50750</th>\n",
       "      <td>0</td>\n",
       "      <td>0</td>\n",
       "      <td>0</td>\n",
       "      <td>0</td>\n",
       "      <td>4</td>\n",
       "      <td>4</td>\n",
       "      <td>0</td>\n",
       "      <td>0</td>\n",
       "      <td>0</td>\n",
       "      <td>0</td>\n",
       "      <td>...</td>\n",
       "      <td>0</td>\n",
       "      <td>0</td>\n",
       "      <td>0</td>\n",
       "      <td>0</td>\n",
       "      <td>0</td>\n",
       "      <td>0</td>\n",
       "      <td>0</td>\n",
       "      <td>0</td>\n",
       "      <td>0</td>\n",
       "      <td>0</td>\n",
       "    </tr>\n",
       "  </tbody>\n",
       "</table>\n",
       "<p>50751 rows × 343 columns</p>\n",
       "</div>"
      ],
      "text/plain": [
       "       인생존망  뷰티풀 군바리  윈드브레이커  소녀의 세계  백수세끼  파이게임  장씨세가 호위무사  앵무살수  야자괴담  \\\n",
       "0         5        4       0       0     0     0          0     0     0   \n",
       "1         5        0       0       0     0     0          0     0     0   \n",
       "2         5        0       0       0     0     0          0     0     0   \n",
       "3         5        4       5       0     0     0          0     4     0   \n",
       "4         5        0       4       0     0     0          0     5     0   \n",
       "...     ...      ...     ...     ...   ...   ...        ...   ...   ...   \n",
       "50746     0        0       0       0     4     0          0     0     0   \n",
       "50747     0        0       0       0     4     0          0     0     0   \n",
       "50748     0        0       0       0     4     0          0     0     0   \n",
       "50749     0        0       0       0     5     0          0     0     0   \n",
       "50750     0        0       0       0     4     4          0     0     0   \n",
       "\n",
       "       유일무이 로맨스  ...  오늘도 사랑하세요  죽여주는 탐정님  그녀의 버킷리스트  만찢남녀  Here U Are  \\\n",
       "0             0  ...          0         0          0     0           0   \n",
       "1             0  ...          0         0          0     0           0   \n",
       "2             0  ...          0         0          0     0           0   \n",
       "3             0  ...          0         0          0     0           0   \n",
       "4             0  ...          0         0          0     0           0   \n",
       "...         ...  ...        ...       ...        ...   ...         ...   \n",
       "50746         0  ...          0         0          0     0           0   \n",
       "50747         0  ...          0         0          3     0           0   \n",
       "50748         0  ...          0         0          0     0           0   \n",
       "50749         0  ...          0         0          0     0           0   \n",
       "50750         0  ...          0         0          0     0           0   \n",
       "\n",
       "       위험한 신입사원  불발소년  선녀야 야옹해봐!  8월의 눈보라  마도  \n",
       "0             0     0          0        0   0  \n",
       "1             0     0          0        0   0  \n",
       "2             0     0          0        0   0  \n",
       "3             0     0          0        0   0  \n",
       "4             0     0          0        0   0  \n",
       "...         ...   ...        ...      ...  ..  \n",
       "50746         0     0          0        0   0  \n",
       "50747         0     0          0        0   0  \n",
       "50748         0     0          0        0   0  \n",
       "50749         0     0          0        0   0  \n",
       "50750         0     0          0        0   0  \n",
       "\n",
       "[50751 rows x 343 columns]"
      ]
     },
     "execution_count": 43,
     "metadata": {},
     "output_type": "execute_result"
    }
   ],
   "source": [
    "user"
   ]
  },
  {
   "cell_type": "code",
   "execution_count": null,
   "metadata": {},
   "outputs": [],
   "source": [
    "check_unwatched=[]\n",
    "\n",
    "for i in user.columns:\n",
    "    if(sum(list(user[i]))==0):\n",
    "        check_unwatched.append(i)"
   ]
  },
  {
   "cell_type": "code",
   "execution_count": null,
   "metadata": {},
   "outputs": [],
   "source": [
    "check_unwatched"
   ]
  },
  {
   "cell_type": "code",
   "execution_count": 39,
   "metadata": {},
   "outputs": [],
   "source": [
    "check_num_rating_user = []\n",
    "check_one_rating = []\n",
    "for j in range(len(user)):\n",
    "    check_num_rating_user.append(len(user.columns) - list(user.iloc[j,:]).count(0))\n",
    "    if(check_num_rating_user[-1]<=101 or check_num_rating_user[-1] > 150):\n",
    "        check_one_rating.append(j)"
   ]
  },
  {
   "cell_type": "code",
   "execution_count": 14,
   "metadata": {},
   "outputs": [
    {
     "name": "stdout",
     "output_type": "stream",
     "text": [
      "1\n",
      "343\n"
     ]
    }
   ],
   "source": [
    "print(min(check_num_rating_user))\n",
    "print(max(check_num_rating_user))"
   ]
  },
  {
   "cell_type": "code",
   "execution_count": 15,
   "metadata": {},
   "outputs": [
    {
     "data": {
      "image/png": "[encoded data removed]",
      "text/plain": [
       "<Figure size 720x720 with 1 Axes>"
      ]
     },
     "metadata": {
      "needs_background": "light"
     },
     "output_type": "display_data"
    }
   ],
   "source": [
    "import matplotlib.pyplot as plt\n",
    "\n",
    "graph = Counter(sorted(check_num_rating_user))\n",
    "\n",
    "plt.figure(figsize=(10,10))\n",
    "plt.bar(graph.keys(),graph.values())\n",
    "plt.show()"
   ]
  },
  {
   "cell_type": "code",
   "execution_count": 31,
   "metadata": {},
   "outputs": [
    {
     "data": {
      "image/png": "[encoded data removed]",
      "text/plain": [
       "<Figure size 720x720 with 1 Axes>"
      ]
     },
     "metadata": {
      "needs_background": "light"
     },
     "output_type": "display_data"
    }
   ],
   "source": [
    "plt.figure(figsize=(10,10))\n",
    "plt.bar([i for i in range(101,150)],list(graph.values())[101:150])\n",
    "plt.show()"
   ]
  },
  {
   "cell_type": "code",
   "execution_count": 45,
   "metadata": {},
   "outputs": [],
   "source": [
    "user = user.drop(check_one_rating)\n",
    "user_copy = user.copy()\n",
    "user = user.reset_index()\n",
    "user = user.drop('index',axis=1)"
   ]
  },
  {
   "cell_type": "code",
   "execution_count": 56,
   "metadata": {},
   "outputs": [],
   "source": [
    "id_dic = {}\n",
    "\n",
    "for i in range(len(user_copy.index)):\n",
    "    id_dic[i] = df2['id'].iloc[user_copy.index[i]]"
   ]
  },
  {
   "cell_type": "code",
   "execution_count": 72,
   "metadata": {},
   "outputs": [
    {
     "data": {
      "text/html": [
       "<div>\n",
       "<style scoped>\n",
       "    .dataframe tbody tr th:only-of-type {\n",
       "        vertical-align: middle;\n",
       "    }\n",
       "\n",
       "    .dataframe tbody tr th {\n",
       "        vertical-align: top;\n",
       "    }\n",
       "\n",
       "    .dataframe thead th {\n",
       "        text-align: right;\n",
       "    }\n",
       "</style>\n",
       "<table border=\"1\" class=\"dataframe\">\n",
       "  <thead>\n",
       "    <tr style=\"text-align: right;\">\n",
       "      <th></th>\n",
       "      <th>인생존망</th>\n",
       "      <th>뷰티풀 군바리</th>\n",
       "      <th>윈드브레이커</th>\n",
       "      <th>소녀의 세계</th>\n",
       "      <th>백수세끼</th>\n",
       "      <th>파이게임</th>\n",
       "      <th>장씨세가 호위무사</th>\n",
       "      <th>앵무살수</th>\n",
       "      <th>야자괴담</th>\n",
       "      <th>유일무이 로맨스</th>\n",
       "      <th>...</th>\n",
       "      <th>오늘도 사랑하세요</th>\n",
       "      <th>죽여주는 탐정님</th>\n",
       "      <th>그녀의 버킷리스트</th>\n",
       "      <th>만찢남녀</th>\n",
       "      <th>Here U Are</th>\n",
       "      <th>위험한 신입사원</th>\n",
       "      <th>불발소년</th>\n",
       "      <th>선녀야 야옹해봐!</th>\n",
       "      <th>8월의 눈보라</th>\n",
       "      <th>마도</th>\n",
       "    </tr>\n",
       "  </thead>\n",
       "  <tbody>\n",
       "    <tr>\n",
       "      <th>0</th>\n",
       "      <td>5</td>\n",
       "      <td>0</td>\n",
       "      <td>5</td>\n",
       "      <td>5</td>\n",
       "      <td>5</td>\n",
       "      <td>0</td>\n",
       "      <td>0</td>\n",
       "      <td>0</td>\n",
       "      <td>0</td>\n",
       "      <td>0</td>\n",
       "      <td>...</td>\n",
       "      <td>0</td>\n",
       "      <td>0</td>\n",
       "      <td>4</td>\n",
       "      <td>0</td>\n",
       "      <td>0</td>\n",
       "      <td>0</td>\n",
       "      <td>0</td>\n",
       "      <td>0</td>\n",
       "      <td>0</td>\n",
       "      <td>0</td>\n",
       "    </tr>\n",
       "    <tr>\n",
       "      <th>1</th>\n",
       "      <td>5</td>\n",
       "      <td>4</td>\n",
       "      <td>4</td>\n",
       "      <td>4</td>\n",
       "      <td>4</td>\n",
       "      <td>5</td>\n",
       "      <td>0</td>\n",
       "      <td>0</td>\n",
       "      <td>4</td>\n",
       "      <td>0</td>\n",
       "      <td>...</td>\n",
       "      <td>0</td>\n",
       "      <td>0</td>\n",
       "      <td>0</td>\n",
       "      <td>0</td>\n",
       "      <td>0</td>\n",
       "      <td>0</td>\n",
       "      <td>0</td>\n",
       "      <td>0</td>\n",
       "      <td>0</td>\n",
       "      <td>0</td>\n",
       "    </tr>\n",
       "    <tr>\n",
       "      <th>2</th>\n",
       "      <td>5</td>\n",
       "      <td>5</td>\n",
       "      <td>5</td>\n",
       "      <td>5</td>\n",
       "      <td>5</td>\n",
       "      <td>0</td>\n",
       "      <td>4</td>\n",
       "      <td>4</td>\n",
       "      <td>0</td>\n",
       "      <td>0</td>\n",
       "      <td>...</td>\n",
       "      <td>3</td>\n",
       "      <td>0</td>\n",
       "      <td>0</td>\n",
       "      <td>0</td>\n",
       "      <td>3</td>\n",
       "      <td>0</td>\n",
       "      <td>0</td>\n",
       "      <td>0</td>\n",
       "      <td>0</td>\n",
       "      <td>0</td>\n",
       "    </tr>\n",
       "    <tr>\n",
       "      <th>3</th>\n",
       "      <td>5</td>\n",
       "      <td>4</td>\n",
       "      <td>0</td>\n",
       "      <td>0</td>\n",
       "      <td>5</td>\n",
       "      <td>0</td>\n",
       "      <td>0</td>\n",
       "      <td>0</td>\n",
       "      <td>4</td>\n",
       "      <td>0</td>\n",
       "      <td>...</td>\n",
       "      <td>4</td>\n",
       "      <td>0</td>\n",
       "      <td>0</td>\n",
       "      <td>0</td>\n",
       "      <td>3</td>\n",
       "      <td>3</td>\n",
       "      <td>0</td>\n",
       "      <td>3</td>\n",
       "      <td>0</td>\n",
       "      <td>0</td>\n",
       "    </tr>\n",
       "    <tr>\n",
       "      <th>4</th>\n",
       "      <td>5</td>\n",
       "      <td>0</td>\n",
       "      <td>5</td>\n",
       "      <td>4</td>\n",
       "      <td>5</td>\n",
       "      <td>4</td>\n",
       "      <td>4</td>\n",
       "      <td>0</td>\n",
       "      <td>0</td>\n",
       "      <td>0</td>\n",
       "      <td>...</td>\n",
       "      <td>3</td>\n",
       "      <td>0</td>\n",
       "      <td>0</td>\n",
       "      <td>0</td>\n",
       "      <td>0</td>\n",
       "      <td>0</td>\n",
       "      <td>4</td>\n",
       "      <td>0</td>\n",
       "      <td>0</td>\n",
       "      <td>0</td>\n",
       "    </tr>\n",
       "    <tr>\n",
       "      <th>...</th>\n",
       "      <td>...</td>\n",
       "      <td>...</td>\n",
       "      <td>...</td>\n",
       "      <td>...</td>\n",
       "      <td>...</td>\n",
       "      <td>...</td>\n",
       "      <td>...</td>\n",
       "      <td>...</td>\n",
       "      <td>...</td>\n",
       "      <td>...</td>\n",
       "      <td>...</td>\n",
       "      <td>...</td>\n",
       "      <td>...</td>\n",
       "      <td>...</td>\n",
       "      <td>...</td>\n",
       "      <td>...</td>\n",
       "      <td>...</td>\n",
       "      <td>...</td>\n",
       "      <td>...</td>\n",
       "      <td>...</td>\n",
       "      <td>...</td>\n",
       "    </tr>\n",
       "    <tr>\n",
       "      <th>1470</th>\n",
       "      <td>0</td>\n",
       "      <td>0</td>\n",
       "      <td>5</td>\n",
       "      <td>5</td>\n",
       "      <td>4</td>\n",
       "      <td>5</td>\n",
       "      <td>5</td>\n",
       "      <td>0</td>\n",
       "      <td>0</td>\n",
       "      <td>0</td>\n",
       "      <td>...</td>\n",
       "      <td>4</td>\n",
       "      <td>0</td>\n",
       "      <td>0</td>\n",
       "      <td>0</td>\n",
       "      <td>4</td>\n",
       "      <td>0</td>\n",
       "      <td>0</td>\n",
       "      <td>0</td>\n",
       "      <td>0</td>\n",
       "      <td>4</td>\n",
       "    </tr>\n",
       "    <tr>\n",
       "      <th>1471</th>\n",
       "      <td>0</td>\n",
       "      <td>0</td>\n",
       "      <td>5</td>\n",
       "      <td>5</td>\n",
       "      <td>4</td>\n",
       "      <td>4</td>\n",
       "      <td>0</td>\n",
       "      <td>4</td>\n",
       "      <td>4</td>\n",
       "      <td>5</td>\n",
       "      <td>...</td>\n",
       "      <td>4</td>\n",
       "      <td>3</td>\n",
       "      <td>0</td>\n",
       "      <td>0</td>\n",
       "      <td>0</td>\n",
       "      <td>0</td>\n",
       "      <td>0</td>\n",
       "      <td>3</td>\n",
       "      <td>0</td>\n",
       "      <td>0</td>\n",
       "    </tr>\n",
       "    <tr>\n",
       "      <th>1472</th>\n",
       "      <td>0</td>\n",
       "      <td>0</td>\n",
       "      <td>0</td>\n",
       "      <td>5</td>\n",
       "      <td>0</td>\n",
       "      <td>0</td>\n",
       "      <td>0</td>\n",
       "      <td>0</td>\n",
       "      <td>0</td>\n",
       "      <td>4</td>\n",
       "      <td>...</td>\n",
       "      <td>4</td>\n",
       "      <td>0</td>\n",
       "      <td>0</td>\n",
       "      <td>3</td>\n",
       "      <td>3</td>\n",
       "      <td>3</td>\n",
       "      <td>0</td>\n",
       "      <td>0</td>\n",
       "      <td>0</td>\n",
       "      <td>0</td>\n",
       "    </tr>\n",
       "    <tr>\n",
       "      <th>1473</th>\n",
       "      <td>0</td>\n",
       "      <td>0</td>\n",
       "      <td>0</td>\n",
       "      <td>5</td>\n",
       "      <td>4</td>\n",
       "      <td>0</td>\n",
       "      <td>0</td>\n",
       "      <td>0</td>\n",
       "      <td>5</td>\n",
       "      <td>5</td>\n",
       "      <td>...</td>\n",
       "      <td>4</td>\n",
       "      <td>0</td>\n",
       "      <td>4</td>\n",
       "      <td>0</td>\n",
       "      <td>0</td>\n",
       "      <td>0</td>\n",
       "      <td>0</td>\n",
       "      <td>3</td>\n",
       "      <td>0</td>\n",
       "      <td>0</td>\n",
       "    </tr>\n",
       "    <tr>\n",
       "      <th>1474</th>\n",
       "      <td>0</td>\n",
       "      <td>0</td>\n",
       "      <td>0</td>\n",
       "      <td>5</td>\n",
       "      <td>5</td>\n",
       "      <td>0</td>\n",
       "      <td>4</td>\n",
       "      <td>4</td>\n",
       "      <td>0</td>\n",
       "      <td>5</td>\n",
       "      <td>...</td>\n",
       "      <td>0</td>\n",
       "      <td>0</td>\n",
       "      <td>0</td>\n",
       "      <td>3</td>\n",
       "      <td>0</td>\n",
       "      <td>0</td>\n",
       "      <td>0</td>\n",
       "      <td>0</td>\n",
       "      <td>3</td>\n",
       "      <td>0</td>\n",
       "    </tr>\n",
       "  </tbody>\n",
       "</table>\n",
       "<p>1475 rows × 343 columns</p>\n",
       "</div>"
      ],
      "text/plain": [
       "      인생존망  뷰티풀 군바리  윈드브레이커  소녀의 세계  백수세끼  파이게임  장씨세가 호위무사  앵무살수  야자괴담  \\\n",
       "0        5        0       5       5     5     0          0     0     0   \n",
       "1        5        4       4       4     4     5          0     0     4   \n",
       "2        5        5       5       5     5     0          4     4     0   \n",
       "3        5        4       0       0     5     0          0     0     4   \n",
       "4        5        0       5       4     5     4          4     0     0   \n",
       "...    ...      ...     ...     ...   ...   ...        ...   ...   ...   \n",
       "1470     0        0       5       5     4     5          5     0     0   \n",
       "1471     0        0       5       5     4     4          0     4     4   \n",
       "1472     0        0       0       5     0     0          0     0     0   \n",
       "1473     0        0       0       5     4     0          0     0     5   \n",
       "1474     0        0       0       5     5     0          4     4     0   \n",
       "\n",
       "      유일무이 로맨스  ...  오늘도 사랑하세요  죽여주는 탐정님  그녀의 버킷리스트  만찢남녀  Here U Are  \\\n",
       "0            0  ...          0         0          4     0           0   \n",
       "1            0  ...          0         0          0     0           0   \n",
       "2            0  ...          3         0          0     0           3   \n",
       "3            0  ...          4         0          0     0           3   \n",
       "4            0  ...          3         0          0     0           0   \n",
       "...        ...  ...        ...       ...        ...   ...         ...   \n",
       "1470         0  ...          4         0          0     0           4   \n",
       "1471         5  ...          4         3          0     0           0   \n",
       "1472         4  ...          4         0          0     3           3   \n",
       "1473         5  ...          4         0          4     0           0   \n",
       "1474         5  ...          0         0          0     3           0   \n",
       "\n",
       "      위험한 신입사원  불발소년  선녀야 야옹해봐!  8월의 눈보라  마도  \n",
       "0            0     0          0        0   0  \n",
       "1            0     0          0        0   0  \n",
       "2            0     0          0        0   0  \n",
       "3            3     0          3        0   0  \n",
       "4            0     4          0        0   0  \n",
       "...        ...   ...        ...      ...  ..  \n",
       "1470         0     0          0        0   4  \n",
       "1471         0     0          3        0   0  \n",
       "1472         3     0          0        0   0  \n",
       "1473         0     0          3        0   0  \n",
       "1474         0     0          0        3   0  \n",
       "\n",
       "[1475 rows x 343 columns]"
      ]
     },
     "execution_count": 72,
     "metadata": {},
     "output_type": "execute_result"
    }
   ],
   "source": [
    "user"
   ]
  },
  {
   "cell_type": "code",
   "execution_count": 18,
   "metadata": {},
   "outputs": [
    {
     "data": {
      "application/vnd.jupyter.widget-view+json": {
       "model_id": "4c9c728e6e814b289b42e410af9860b9",
       "version_major": 2,
       "version_minor": 0
      },
      "text/plain": [
       "HBox(children=(FloatProgress(value=0.0, max=1475.0), HTML(value='')))"
      ]
     },
     "metadata": {},
     "output_type": "display_data"
    },
    {
     "name": "stdout",
     "output_type": "stream",
     "text": [
      "\n"
     ]
    }
   ],
   "source": [
    "box1 = []\n",
    "total = tqdm_notebook(range(len(user)))\n",
    "for i in total:\n",
    "    box2 = []\n",
    "    for j in range(len(user.columns)):\n",
    "        if(user.iloc[i,j]!=0):\n",
    "            box2.append(i)\n",
    "            box2.append(j)\n",
    "            box2.append(user.iloc[i,j])\n",
    "        if(len(box2)!=0):    \n",
    "            box1.append(box2)\n",
    "        box2 = []\n"
   ]
  },
  {
   "cell_type": "code",
   "execution_count": 19,
   "metadata": {},
   "outputs": [],
   "source": [
    "user = pd.DataFrame(box1,columns=['id','webtoon','rating'])"
   ]
  },
  {
   "cell_type": "code",
   "execution_count": 20,
   "metadata": {},
   "outputs": [
    {
     "data": {
      "text/html": [
       "<div>\n",
       "<style scoped>\n",
       "    .dataframe tbody tr th:only-of-type {\n",
       "        vertical-align: middle;\n",
       "    }\n",
       "\n",
       "    .dataframe tbody tr th {\n",
       "        vertical-align: top;\n",
       "    }\n",
       "\n",
       "    .dataframe thead th {\n",
       "        text-align: right;\n",
       "    }\n",
       "</style>\n",
       "<table border=\"1\" class=\"dataframe\">\n",
       "  <thead>\n",
       "    <tr style=\"text-align: right;\">\n",
       "      <th></th>\n",
       "      <th>id</th>\n",
       "      <th>webtoon</th>\n",
       "      <th>rating</th>\n",
       "    </tr>\n",
       "  </thead>\n",
       "  <tbody>\n",
       "    <tr>\n",
       "      <th>0</th>\n",
       "      <td>0</td>\n",
       "      <td>0</td>\n",
       "      <td>5</td>\n",
       "    </tr>\n",
       "    <tr>\n",
       "      <th>1</th>\n",
       "      <td>0</td>\n",
       "      <td>2</td>\n",
       "      <td>5</td>\n",
       "    </tr>\n",
       "    <tr>\n",
       "      <th>2</th>\n",
       "      <td>0</td>\n",
       "      <td>3</td>\n",
       "      <td>5</td>\n",
       "    </tr>\n",
       "    <tr>\n",
       "      <th>3</th>\n",
       "      <td>0</td>\n",
       "      <td>4</td>\n",
       "      <td>5</td>\n",
       "    </tr>\n",
       "    <tr>\n",
       "      <th>4</th>\n",
       "      <td>0</td>\n",
       "      <td>11</td>\n",
       "      <td>4</td>\n",
       "    </tr>\n",
       "    <tr>\n",
       "      <th>...</th>\n",
       "      <td>...</td>\n",
       "      <td>...</td>\n",
       "      <td>...</td>\n",
       "    </tr>\n",
       "    <tr>\n",
       "      <th>208553</th>\n",
       "      <td>1474</td>\n",
       "      <td>322</td>\n",
       "      <td>3</td>\n",
       "    </tr>\n",
       "    <tr>\n",
       "      <th>208554</th>\n",
       "      <td>1474</td>\n",
       "      <td>323</td>\n",
       "      <td>4</td>\n",
       "    </tr>\n",
       "    <tr>\n",
       "      <th>208555</th>\n",
       "      <td>1474</td>\n",
       "      <td>324</td>\n",
       "      <td>4</td>\n",
       "    </tr>\n",
       "    <tr>\n",
       "      <th>208556</th>\n",
       "      <td>1474</td>\n",
       "      <td>336</td>\n",
       "      <td>3</td>\n",
       "    </tr>\n",
       "    <tr>\n",
       "      <th>208557</th>\n",
       "      <td>1474</td>\n",
       "      <td>341</td>\n",
       "      <td>3</td>\n",
       "    </tr>\n",
       "  </tbody>\n",
       "</table>\n",
       "<p>208558 rows × 3 columns</p>\n",
       "</div>"
      ],
      "text/plain": [
       "          id  webtoon  rating\n",
       "0          0        0       5\n",
       "1          0        2       5\n",
       "2          0        3       5\n",
       "3          0        4       5\n",
       "4          0       11       4\n",
       "...      ...      ...     ...\n",
       "208553  1474      322       3\n",
       "208554  1474      323       4\n",
       "208555  1474      324       4\n",
       "208556  1474      336       3\n",
       "208557  1474      341       3\n",
       "\n",
       "[208558 rows x 3 columns]"
      ]
     },
     "execution_count": 20,
     "metadata": {},
     "output_type": "execute_result"
    }
   ],
   "source": [
    "user"
   ]
  },
  {
   "cell_type": "code",
   "execution_count": 21,
   "metadata": {},
   "outputs": [],
   "source": [
    "reader = surprise.Reader(rating_scale=(3,5))"
   ]
  },
  {
   "cell_type": "code",
   "execution_count": 22,
   "metadata": {},
   "outputs": [],
   "source": [
    "data = surprise.Dataset.load_from_df(user,reader)"
   ]
  },
  {
   "cell_type": "code",
   "execution_count": 23,
   "metadata": {},
   "outputs": [
    {
     "name": "stdout",
     "output_type": "stream",
     "text": [
      "Computing the msd similarity matrix...\n",
      "Done computing similarity matrix.\n"
     ]
    },
    {
     "data": {
      "text/plain": [
       "<surprise.prediction_algorithms.knns.KNNBasic at 0x1f0bfd91d00>"
      ]
     },
     "execution_count": 23,
     "metadata": {},
     "output_type": "execute_result"
    }
   ],
   "source": [
    "train = data.build_full_trainset()\n",
    "\n",
    "option = {'name':'pearson'}\n",
    "\n",
    "algo = surprise.KNNBasic(sim_option = option)\n",
    "\n",
    "algo.fit(train)"
   ]
  },
  {
   "cell_type": "code",
   "execution_count": 69,
   "metadata": {},
   "outputs": [
    {
     "data": {
      "text/plain": [
       "[181, 182, 183, 184, 186]"
      ]
     },
     "execution_count": 69,
     "metadata": {},
     "output_type": "execute_result"
    }
   ],
   "source": [
    "recommend = algo.get_neighbors(0, k=5)\n",
    "recommend"
   ]
  },
  {
   "cell_type": "code",
   "execution_count": 64,
   "metadata": {},
   "outputs": [],
   "source": [
    "webtoon_dic = {}\n",
    "for i in range(len(df.columns)):\n",
    "    webtoon_dic[i] = list(df.columns)[i]\n",
    "    \n",
    "id_dic = {}\n",
    "for i in range(len(user_copy.index)):\n",
    "    id_dic[df2['id'].iloc[user_copy.index[i]]] = i"
   ]
  },
  {
   "cell_type": "code",
   "execution_count": 78,
   "metadata": {},
   "outputs": [],
   "source": [
    "def webtoon_recommendation(id_dic, webtoon_dic):\n",
    "\n",
    "    id_num = input(str('ID 입력:')[:8])\n",
    "\n",
    "    recommend = algo.get_neighbors(id_dic[id_num], k=5)\n",
    "    print('\\n')\n",
    "    print('***********************************************')\n",
    "    for i in range(len(recommend)):\n",
    "        print(i+1,'번째 추천 :', webtoon_dic[recommend[i]])\n",
    "    print('***********************************************')\n",
    "    \n",
    "    return None"
   ]
  },
  {
   "cell_type": "code",
   "execution_count": 93,
   "metadata": {},
   "outputs": [
    {
     "name": "stdout",
     "output_type": "stream",
     "text": [
      "ID 입력:eunh****\n",
      "\n",
      "\n",
      "***********************************************\n",
      "1 번째 추천 : 셧업앤댄스\n",
      "2 번째 추천 : 별을 삼킨 너에게\n",
      "3 번째 추천 : 안개무덤\n",
      "4 번째 추천 : 로그아웃\n",
      "5 번째 추천 : 롤랑롤랑\n",
      "***********************************************\n"
     ]
    }
   ],
   "source": [
    "webtoon_recommendation(id_dic, webtoon_dic)"
   ]
  }
 ],
 "metadata": {
  "kernelspec": {
   "display_name": "Python 3",
   "language": "python",
   "name": "python3"
  },
  "language_info": {
   "codemirror_mode": {
    "name": "ipython",
    "version": 3
   },
   "file_extension": ".py",
   "mimetype": "text/x-python",
   "name": "python",
   "nbconvert_exporter": "python",
   "pygments_lexer": "ipython3",
   "version": "3.8.3"
  }
 },
 "nbformat": 4,
 "nbformat_minor": 4
}
